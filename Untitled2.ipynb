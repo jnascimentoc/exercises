{
  "nbformat": 4,
  "nbformat_minor": 0,
  "metadata": {
    "colab": {
      "name": "Untitled2.ipynb",
      "provenance": [],
      "authorship_tag": "ABX9TyOHQ6MxG/0l1A16AtasaxTI",
      "include_colab_link": true
    },
    "kernelspec": {
      "name": "python3",
      "display_name": "Python 3"
    },
    "language_info": {
      "name": "python"
    }
  },
  "cells": [
    {
      "cell_type": "markdown",
      "metadata": {
        "id": "view-in-github",
        "colab_type": "text"
      },
      "source": [
        "<a href=\"https://colab.research.google.com/github/jnascimentoc/exercises/blob/main/Untitled2.ipynb\" target=\"_parent\"><img src=\"https://colab.research.google.com/assets/colab-badge.svg\" alt=\"Open In Colab\"/></a>"
      ]
    },
    {
      "cell_type": "code",
      "metadata": {
        "colab": {
          "base_uri": "https://localhost:8080/"
        },
        "id": "geVeaPJiunNu",
        "outputId": "5bbbf67d-9cf8-4fc7-c06f-4212a183119c"
      },
      "source": [
        "tupla_meses = ('Janeiro' , 'Fevereiro' , 'Março' , 'Abril' ,' Maio', 'Junho' , 'Julho'\n",
        "         , 'Agosto' , 'Setembro' , 'Outubro' , 'Novembro' , 'Dezembro')\n",
        "\n",
        "print('-'*40)\n",
        "print(f\"Os seis primeiros meses:\")\n",
        "print('-'*40)\n",
        "for pos,mes in enumerate(tupla_meses[0:6]):\n",
        "    print(f\"{pos + 1}º Mês:\\t{mes}\")\n",
        "    \n",
        "    \n",
        "print('-'*40)\n",
        "print(f\"Os quatro últimos meses:\")\n",
        "print('-'*40)\n",
        "for pos,mes in enumerate(tupla_meses[8::]):\n",
        "    print(f\"{pos + 9}º Mês: {mes}\") \n",
        "print('-'*40)\n",
        "  \n",
        "num = int(input(\"Digite um número entre 1 e 12: \"))\n",
        "if num >=13 or num <=0:\n",
        "  print (\"Opção Inválida!\")\n",
        "elif num ==1:\n",
        "  print (f\"{num} - Corresponde à Janeiro\")\n",
        "elif num ==2:\n",
        "  print (f\"{num} - Corresponde à Fevereiro\")\n",
        "elif num ==3:\n",
        "  print (f\"{num} - Corresponde à Março\")\n",
        "elif num ==4:\n",
        "  print (f\"{num} - Corresponde à Abril\")\n",
        "elif num ==5:\n",
        "  print (f\"{num} - Corresponde à Maio\")\n",
        "elif num ==6:\n",
        "  print (f\"{num} - Corresponde à Junho\")\n",
        "elif num ==7:\n",
        "  print (f\"{num} - Corresponde à Julho\")\n",
        "elif num ==8:\n",
        "  print (f\"{num} - Corresponde à Agosto\")\n",
        "elif num ==9:\n",
        "  print (f\"{num} - Corresponde à Setembro\")\n",
        "elif num ==10:\n",
        "  print (f\"{num} - Corresponde à Outubro\")\n",
        "elif num ==11:\n",
        "  print (f\"{num} - Corresponde à Novembro\")\n",
        "else:\n",
        "  print (f\"{num} - Corresponde à Dezembro\")"
      ],
      "execution_count": 1,
      "outputs": [
        {
          "output_type": "stream",
          "name": "stdout",
          "text": [
            "----------------------------------------\n",
            "Os seis primeiros meses:\n",
            "----------------------------------------\n",
            "1º Mês:\tJaneiro\n",
            "2º Mês:\tFevereiro\n",
            "3º Mês:\tMarço\n",
            "4º Mês:\tAbril\n",
            "5º Mês:\t Maio\n",
            "6º Mês:\tJunho\n",
            "----------------------------------------\n",
            "Os quatro últimos meses:\n",
            "----------------------------------------\n",
            "9º Mês: Setembro\n",
            "10º Mês: Outubro\n",
            "11º Mês: Novembro\n",
            "12º Mês: Dezembro\n",
            "----------------------------------------\n",
            "Digite um número entre 1 e 12: 6\n",
            "6 - Corresponde à Junho\n"
          ]
        }
      ]
    }
  ]
}