{
  "cells": [
    {
      "cell_type": "markdown",
      "metadata": {
        "id": "view-in-github",
        "colab_type": "text"
      },
      "source": [
        "<a href=\"https://colab.research.google.com/github/jnascimentoc/exercises/blob/main/C%C3%B3pia_de_Estruturas_de_Dados_Exerc%C3%ADcios_(1).ipynb\" target=\"_parent\"><img src=\"https://colab.research.google.com/assets/colab-badge.svg\" alt=\"Open In Colab\"/></a>"
      ]
    },
    {
      "cell_type": "markdown",
      "metadata": {
        "id": "kpXe6-KXiPIW"
      },
      "source": [
        "## Exercícios - Listas, Dicionários e Tuplas em Python"
      ]
    },
    {
      "cell_type": "markdown",
      "metadata": {
        "id": "dSjB4SAPiPIl"
      },
      "source": [
        ""
      ]
    },
    {
      "cell_type": "markdown",
      "metadata": {
        "id": "-WdvwhMLiPIn"
      },
      "source": [
        "<B> Exercício 1 - 1.0 ponto - </B> Elaborar um algoritmo para ler 7 nomes, armazenando-os em uma tupla. Deve-se também ler o nome de uma pessoa e pesquisar se ela está presente ou não na tupla de nomes. Caso o nome esteja presente, deve-se imprimir as respectivas posições. Caso contrário, deve-se imprimir uma mensagem ao usuário informando que o nome não está presente na tupla."
      ]
    },
    {
      "cell_type": "code",
      "execution_count": null,
      "metadata": {
        "id": "ZLsgTODbiPIp"
      },
      "outputs": [],
      "source": [
        "#Passo 1: Ler o nome de 7 pessoas e armazena-los em uma tupla.\n",
        "lista_nomes = []\n",
        "for i in range (7):\n",
        "    nome = str(input('Insira um nome:'))\n",
        "    lista_nomes.append(nome)\n",
        "    tupla_nomes = tuple(lista_nomes)\n",
        "print (tupla_nomes)\n",
        "#Passo 2: Ler o nome de uma pessoa e verificar se o nome dela está nesta tupla e imprimir a posiçaõ\n",
        "name = str(input(\"Insira o seu nome: \"))\n",
        "if name in tupla_nomes:\n",
        "    v = tupla_nomes.index(name)\n",
        "    print (f'O nome {name} está na tupla na posição {v}') \n",
        "else:\n",
        "    print('-'*30)\n",
        "    print(\"O nome não está presente na tupla!\")\n",
        "    print('-'*30)\n"
      ]
    },
    {
      "cell_type": "markdown",
      "metadata": {
        "id": "BM7dAJ6xiPIv"
      },
      "source": [
        "<B> Exercício 2 - 1.0 ponto - </B> Você deve construir um programa para identificar níveis de CO2 (gás carbônico) em determinados locais para evitar potenciais acidentes. Em cada um desses locais a sua empresa tem 5 sensores que captam o nível de CO2 do local. O nível de CO2 de um local é dado pela média captada pelos 5 sensores. Isso significa que se tivermos os 5 sensores do RJ marcando: 350, 400, 450, 350, 300, o nível de CO2 do RJ será dado por: (350 + 400 + 450 + 350 + 300) / 5 = 370. Elaborar um algoritmo para, caso o nível de CO2 seja maior do que o nível normal 450 (em média), um aviso deve ser exibido pelo seu programa dizendo, por exemplo: RJ está com níveis altíssimos de CO2 (490), favor chamar equipe especializada para verificar a região. Os resultados dos sensores são monitorados frequentemente e dados para o sistema em forma de dicionário, conforme abaixo. "
      ]
    },
    {
      "cell_type": "code",
      "execution_count": null,
      "metadata": {
        "id": "ceQO-amAiPIy"
      },
      "outputs": [],
      "source": [
        "\n",
        "niveis_co2 = {\n",
        "    'AC': [325,405,429,486,402],\n",
        "    'AL': [492,495,310,407,388],\n",
        "    'AP': [507,503,368,338,400],\n",
        "    'AM': [429,456,352,377,363],\n",
        "    'BA': [321,508,372,490,412],\n",
        "    'CE': [424,328,425,516,480],\n",
        "    'ES': [449,506,461,337,336],\n",
        "    'GO': [425,460,385,485,460],\n",
        "    'MA': [361,310,344,425,490],\n",
        "    'MT': [358,402,425,386,379],\n",
        "    'MS': [324,357,441,405,427],\n",
        "    'MG': [345,367,391,427,516],\n",
        "    'PA': [479,514,392,493,329],\n",
        "    'PB': [418,499,317,302,476],\n",
        "    'PR': [420,508,419,396,327],\n",
        "    'PE': [404,444,495,320,343],\n",
        "    'PI': [513,513,304,377,475],\n",
        "    'RJ': [502,481,492,502,506],\n",
        "    'RN': [446,437,519,356,317],\n",
        "    'RS': [427,518,459,317,321],\n",
        "    'RO': [517,466,512,326,458],\n",
        "    'RR': [466,495,469,495,310],\n",
        "    'SC': [495,436,382,483,479],\n",
        "    'SP': [495,407,362,389,317],\n",
        "    'SE': [508,351,334,389,418],\n",
        "    'TO': [339,490,304,488,419],\n",
        "    'DF': [376,516,320,310,518], \n",
        "}\n",
        "\n",
        "                                                                            \n",
        "                                                                \n",
        "                                                                            "
      ]
    },
    {
      "cell_type": "code",
      "execution_count": null,
      "metadata": {
        "id": "690zKwRYiPI3"
      },
      "outputs": [],
      "source": [
        ""
      ]
    },
    {
      "cell_type": "markdown",
      "metadata": {
        "id": "ChBkO8yTiPI5"
      },
      "source": [
        "<B> Exercício 3 - 1.0 ponto - </B> Na teoria dos sistemas, define-se o elemento MINMAX de uma matriz como o maior elemento da linha em que se encontra o menor elemento da matriz. Elaborar um algoritmo que preencha uma matriz 4x7 de número inteiros, calcule e mostre seu elemento MINMAX. Supor elementos diferentes na matriz (não é preciso fazer a proteção de dados no código).\n",
        "Exemplo: Na matriz abaixo, o elemento MINMAX é 28.\n",
        "<img src=\"Matriz1.png\" />"
      ]
    },
    {
      "cell_type": "code",
      "execution_count": null,
      "metadata": {
        "id": "-EDs2vJoiPI7"
      },
      "outputs": [],
      "source": [
        ""
      ]
    },
    {
      "cell_type": "markdown",
      "metadata": {
        "id": "aChnAEzQiPI9"
      },
      "source": [
        "<B> Exercício 4 - 1.0 ponto - </B> Elaborar um algoritmo que leia uma matriz 10x10 de números inteiros. Somente números entre 0 (inclusive) e 10 (inclusive) devem ser lidos, isto é, deve ser feita a proteção de dados no código. Calcule e imprima:\n",
        "\n",
        "- A soma dos números ímpares da terceira coluna da matriz (j=2).\n",
        "- O produto dos números pares da primeira linha da matriz (i=0).\n",
        "- A média dos números da diagonal principal.\n",
        "\n",
        "OBS: Para acessar a diagonal principal da matriz faça o índice da linha igual ao índice da coluna. \n"
      ]
    },
    {
      "cell_type": "code",
      "execution_count": null,
      "metadata": {
        "id": "09Rw_iZyiPI_"
      },
      "outputs": [],
      "source": [
        ""
      ]
    },
    {
      "cell_type": "markdown",
      "metadata": {
        "id": "OuwNXpdIiPJA"
      },
      "source": [
        "<B> Exercício 5 - 1.0 ponto - </B> Elaborar um algoritmo que leia o nome, sexo e idade de 5 pessoas, guardando os dados de cada pessoa em um dicionário e todos os dicionários em uma lista. Deve-se mostrar:\n",
        "\n",
        "- O percentual de homens e mulheres no grupo;\n",
        "- Uma lista com todas os homens. Se não existirem homens no grupo, deve-se apresentar uma mensagem ao usuário;\n",
        "- Uma lista com todas as pessoas com idade acima da média."
      ]
    },
    {
      "cell_type": "code",
      "execution_count": null,
      "metadata": {
        "id": "Tj1yPh22iPJC",
        "outputId": "6a3858d6-2b68-466a-9533-c9cc42698261"
      },
      "outputs": [
        {
          "name": "stdout",
          "output_type": "stream",
          "text": [
            "Entre com o nome: Ana\n",
            "Entre com o sexo: [M/F] f\n",
            "Entre com a idade: 18\n",
            "Entre com o nome: carlos\n",
            "Entre com o sexo: [M/F] m\n",
            "Entre com a idade: 23\n",
            "Entre com o nome: renan\n",
            "Entre com o sexo: [M/F] m\n",
            "Entre com a idade: 16\n",
            "Entre com o nome: leo\n",
            "Entre com o sexo: [M/F] m\n",
            "Entre com a idade: 15\n",
            "Entre com o nome: isadora\n",
            "Entre com o sexo: [M/F] f\n",
            "Entre com a idade: 2\n",
            "----------------------------------------\n",
            "[{'Nome': 'Ana', 'Sexo': 'F', 'Idade': 18}, {'Nome': 'carlos', 'Sexo': 'M', 'Idade': 23}, {'Nome': 'renan', 'Sexo': 'M', 'Idade': 16}, {'Nome': 'leo', 'Sexo': 'M', 'Idade': 15}, {'Nome': 'isadora', 'Sexo': 'F', 'Idade': 2}]\n",
            "----------------------------------------\n",
            "Lista dos homens:\n",
            "['carlos', 'renan', 'leo']\n",
            "----------------------------------------\n",
            "Média das idades:\n",
            "14.8\n",
            "----------------------------------------\n",
            "Lista das pessoas com idade acima da média > 14.8 < :\n",
            "Nome = Ana\n",
            "Sexo = F\n",
            "Idade = 18\n",
            "Nome = carlos\n",
            "Sexo = M\n",
            "Idade = 23\n",
            "Nome = renan\n",
            "Sexo = M\n",
            "Idade = 16\n",
            "Nome = leo\n",
            "Sexo = M\n",
            "Idade = 15\n",
            "----------------------------------------\n",
            "----------------------------------------\n",
            "----------------------------------------\n",
            "Percentual de mulheres: 40.0 %\n",
            "Percentual de homens: 60.0 %\n"
          ]
        }
      ],
      "source": [
        "dic = dict()\n",
        "nomes = []\n",
        "homens = []\n",
        "mulheres = []\n",
        "acima = []\n",
        "soma = media = 0\n",
        "\n",
        "#Entrada de Dados: Ler nome, sexo e idade de 5 pessoas em um\n",
        "       #dicionário e esse dicionário em uma lista\n",
        "for i in range (5):\n",
        "    dic.clear()\n",
        "    dic['Nome'] = str(input(\"Entre com o nome: \"))\n",
        "    while True:\n",
        "        dic['Sexo'] = str(input(\"Entre com o sexo: [M/F] \")).upper()\n",
        "        if dic['Sexo'] in 'MF': #Proteção de dados\n",
        "            break\n",
        "        print (\"Digite um valor válido! (M ou F)\")\n",
        "    dic['Idade'] = int(input(\"Entre com a idade: \"))\n",
        "    soma += dic['Idade']\n",
        "    nomes.append(dic.copy())\n",
        "    \n",
        "print('-'*40)\n",
        "print (nomes)\n",
        "print('-'*40)\n",
        "\n",
        "#Uma lista com o nome dos homens\n",
        "for i in nomes:\n",
        "    if i['Sexo'] in 'M':\n",
        "        homens.append(i[\"Nome\"])\n",
        "print (f'Lista dos homens:') \n",
        "print (homens)\n",
        "        \n",
        "#Pessoas com idade acima da média\n",
        "\n",
        "media = soma /len(nomes)\n",
        "print(\"-\" *40)\n",
        "print (f\"Média das idades:\") \n",
        "print (media)\n",
        "print(\"-\" *40)\n",
        "\n",
        "print (f'Lista das pessoas com idade acima da média > {media} < :')\n",
        "for i in nomes:\n",
        "    if i['Idade'] >= media:\n",
        "        for k, v in i.items():\n",
        "            print (f'{k} = {v}')\n",
        "            \n",
        "print(\"-\" *40)\n",
        "#Percentual de homens e mulheres\n",
        "for i in nomes:\n",
        "    if i['Sexo'] in 'F':\n",
        "        mulheres.append(i[\"Nome\"])\n",
        "per2 = len(mulheres)\n",
        "cal2 = (per2 *100) /5\n",
        "print (f'Percentual de mulheres: {cal2} %')\n",
        "\n",
        "per = len(homens)\n",
        "cal = (per *100) /5\n",
        "print (f'Percentual de homens: {cal} %')"
      ]
    },
    {
      "cell_type": "code",
      "execution_count": null,
      "metadata": {
        "id": "WcdgOnEZiPJI"
      },
      "outputs": [],
      "source": [
        ""
      ]
    },
    {
      "cell_type": "markdown",
      "metadata": {
        "id": "srd28XgdiPJJ"
      },
      "source": [
        "<B> Exercício 6 - 1.0 ponto -  </B> São dadas algumas informações sobre os estados da região Sul e Sudeste, armazenando as informações de cada estado em um dicionário. Cada dicionário também foi armazenado em uma lista. Pede-se:\n",
        "- Apresentar os estados pertencentes a região Sudeste e suas respectivas populações;\n",
        "- Apresentar o percentual da quantidade de cidades dos estados, levando-se em consideração a quantidade total de cidades das duas regiões (Sul e Sudeste); \n",
        "- Apresentar o total da população existente nas regiões Sudeste e Sul, informando qual região tem maior população. <br/>\n",
        "OBS: Já foram criados dicionários com as informações dos estados e uma lista dos estados conforme código abaixo. "
      ]
    },
    {
      "cell_type": "code",
      "execution_count": null,
      "metadata": {
        "id": "t_idJB7niPJK"
      },
      "outputs": [],
      "source": [
        "br = list()\n",
        "e1 = {'Nome': 'Espírito Santo',\n",
        "      'Capital': 'Vitória',\n",
        "      'Sigla': 'ES',\n",
        "      'Região':'Sudeste',\n",
        "      'Área': 46095,\n",
        "      'Cidades': 78,\n",
        "      'População': 4016356,\n",
        "      'Limites': ['Bahia', 'Minas Gerais', 'Rio de Janeiro']\n",
        "     }\n",
        "\n",
        "e2 = {'Nome': 'Minas Gerais',\n",
        "      'Capital': 'Belo Horizonte',\n",
        "      'Sigla': 'MG',\n",
        "      'Região':'Sudeste',\n",
        "      'Área': 586522,\n",
        "      'Cidades': 853,\n",
        "      'População': 21119536,\n",
        "      'Limites': ['São Paulo', 'Mato Grosso do Sul', 'Goiás', 'Bahia', 'Espírito Santo', 'Rio de Janeiro']   \n",
        "     }\n",
        "\n",
        "e3 = {'Nome': 'Rio de Janeiro',\n",
        "      'Capital': 'Rio de Janeiro',\n",
        "      'Sigla': 'RJ',\n",
        "      'Região':'Sudeste',\n",
        "      'Área': 43780,\n",
        "      'Cidades': 92,\n",
        "      'População': 16718956 ,\n",
        "      'Limites': ['São Paulo', 'Minas Gerais', 'Espírito Santo']   \n",
        "     }\n",
        "\n",
        "e4 = {'Nome': 'São Paulo',\n",
        "      'Capital': 'São Paulo',\n",
        "      'Sigla': 'SP',\n",
        "      'Região':'Sudeste',\n",
        "      'Área': 248222,\n",
        "      'Cidades': 645,\n",
        "      'População': 45538936,\n",
        "      'Limites': ['Paraná', 'Mato Grosso do Sul', 'Minas Gerais', 'Rio de Janeiro']   \n",
        "     }\n",
        "\n",
        "e5 = {'Nome': 'Paraná',\n",
        "      'Capital': 'Curitiba',\n",
        "      'Sigla': 'PR',\n",
        "      'Região':'Sul',\n",
        "      'Área': 199307,\n",
        "      'Cidades': 399,\n",
        "      'População': 11348937,\n",
        "      'Limites': ['Mato Grosso do Sul', 'São Paulo', 'Santa Catarina']   \n",
        "     }\n",
        "\n",
        "e6 = {'Nome': 'Santa Catarina',\n",
        "      'Capital': 'Florianópolis',\n",
        "      'Sigla': 'SC',\n",
        "      'Região':'Sul',\n",
        "      'Área': 95736,\n",
        "      'Cidades': 295,\n",
        "      'População': 6910553,\n",
        "      'Limites': ['Paraná', 'Rio Grande do Sul']   \n",
        "     }\n",
        "\n",
        "e7 = {'Nome': 'Rio Grande do Sul',\n",
        "      'Capital': 'Porto Alegre',\n",
        "      'Sigla': 'RS',\n",
        "      'Região':'Sul',\n",
        "      'Área': 281730,\n",
        "      'Cidades': 497,\n",
        "      'População': 11329605,\n",
        "      'Limites': ['Santa Catarina']   \n",
        "     }\n",
        "\n",
        "br.append(e1)\n",
        "br.append(e2)\n",
        "br.append(e3)\n",
        "br.append(e4)\n",
        "br.append(e5)\n",
        "br.append(e6)\n",
        "br.append(e7)\n",
        "\n",
        "\n",
        "#Estados da região Sudeste e suas populações\n",
        "print(40*'-')\n",
        "print(\"Estados e Populaçoes da Região Sudeste\")\n",
        "print(40*'-')\n",
        "#Percorrendo a lista br que contém informações de cada estado (dict)\n",
        "for estado in br:\n",
        "    if (estado['Região'] == 'Sudeste'):\n",
        "        print(f\"{estado['Nome']} -> {estado['População']} \")\n",
        "print(40*'-')\n",
        "\n",
        "#Somar a quantidade de cidades do Sul e do Sudeste separadas, depois somar elas e dar como 100%, depois pegar a soma de uma das regioes e dar como x e então calcular a porcentagem)\n",
        "soma = 0\n",
        "soma2 = 0\n",
        "soma3 = 0\n",
        "soma4 = 0\n",
        "for estado in br:\n",
        "    if (estado['Região'] == 'Sudeste'):\n",
        "        pass\n",
        "        soma += (estado['Cidades'])\n",
        "#print(soma)\n",
        "for estado in br:\n",
        "    if (estado['Região'] == 'Sul'):\n",
        "        pass\n",
        "        soma2 += (estado['Cidades'])\n",
        "#print(soma2)\n",
        "\n",
        "#Soma \n",
        "n = soma +soma2\n",
        "n2 = 100 *1668\n",
        "sudes = n2 /n\n",
        "n4 = 100 *1191\n",
        "sul = n4 /n\n",
        "\n",
        "print (f'''Juntas as regiões possuem {n} cidades. \n",
        "As cidades da região Sudeste representam {sudes:.2f} % e \n",
        "da região Sul {sul:.2f} %''')\n",
        "print(40*'-') \n",
        "\n",
        "\n",
        "#Populações\n",
        "for estado in br:\n",
        "       if (estado['Região'] == 'Sudeste'):\n",
        "            pass\n",
        "            soma3 += (estado['População'])\n",
        "print(f'População da região Sudeste: {soma3}')\n",
        "for estado in br:\n",
        "       if (estado['Região'] == 'Sul'):\n",
        "            pass\n",
        "            soma4 += (estado['População'])\n",
        "print (f'População da região Sul: {soma4}')\n",
        "print(40*'-')\n",
        "if soma3 >soma4:\n",
        "    print(f'A região Sudeste tem maior população em relação à região Sul: {soma3}')\n",
        "else:\n",
        "    print (f'A região Sudeste possui maior população em relação à região Sul: {soma4}')\n",
        "    \n"
      ]
    },
    {
      "cell_type": "markdown",
      "metadata": {
        "id": "DMCAH3PaiPJM"
      },
      "source": [
        "<B> Exercício 7 - 1.0 ponto - </B> Elaborar um algoritmo para gerar aleatoriamente 50 números inteiros entre 1 (inclusive) e 50 (inclusive) armazenando-os em uma lista. Posteriormente deve-se criar e imprimir um dicionário com os seguintes pares <B> chave - valor: {'div3':[ lista de números divisíveis por 3 ordenados], 'div5':[ lista de números divisíveis por 5 ordenados]} </B>. <br/>\n",
        "Exemplo com 10 números: <br/>\n",
        "Entrada: [4, 15, 7, 2, 1, 9, 10, 5, 20, 3] <br/>\n",
        "Saída:{'div3': [3, 9, 15],'div5': [5, 10, 15, 20]}"
      ]
    },
    {
      "cell_type": "code",
      "execution_count": null,
      "metadata": {
        "id": "K0KqQ4WMiPJO"
      },
      "outputs": [],
      "source": [
        "from random import seed,randint\n",
        "#Entrada\n",
        "num_ale = []\n",
        "saida = {}\n",
        "\n",
        "for i in range(50):\n",
        "    num = randint(1,50)\n",
        "    num_ale.append(num)\n",
        "print(num_ale)\n",
        "print ('-' *90)\n",
        "\n",
        "#Condição para um número ser divisível por 3\n",
        "\n",
        "mult3 = [3,6,9,12,15,18,21,24,27,30,33,36,39,42,45,48]\n",
        "for i in mult3:\n",
        "    \n",
        "    for j in num_ale:\n",
        "        if j == i:\n",
        "            pass\n",
        "            saida['div3'] = j\n",
        "            print (j)\n",
        "            \n",
        "            \n",
        "print ('-' *45)\n",
        "\n",
        "#Condição para um número ser divisível por 5\n",
        "for n in num_ale:\n",
        "    v = n //1 %10\n",
        "    if v == 5 or v ==0:\n",
        "        pass\n",
        "        saida['div5'] = n #Só esta adicionando o ultimo valor gerado\n",
        "        print (n)\n",
        "        \n",
        "print ('-' *45)\n",
        "print (saida)\n",
        "\n",
        "#Colocar os valores divisíveis por 3 e por 5 em um dicionário\n",
        "#Por 3 é j e por 5 é n"
      ]
    },
    {
      "cell_type": "markdown",
      "metadata": {
        "id": "rUbjz-K4iPJP"
      },
      "source": [
        "<B> Exercício 8 - 1.0 ponto - </B> Elaborar um algoritmo para preencher uma tupla com os 12 meses do ano. Deve-se:\n",
        "\n",
        "\n",
        "- Imprimir os 6 primeiros meses do ano;\n",
        "- Imprimir os 4 últimos meses do ano;\n",
        "- Ler um número pelo teclado (entre 1 e 12) e imprimir o mês lido por extenso. Ex: Na leitura do número 1, por exemplo, deve-se imprimir o mês Janeiro e na leitura do número 12, por exemplo, deve-se imprimir o mês Dezembro.  "
      ]
    },
    {
      "cell_type": "code",
      "execution_count": null,
      "metadata": {
        "id": "72MbNrFBiPJR"
      },
      "outputs": [],
      "source": [
        "tupla_meses = ('Janeiro' , 'Fevereiro' , 'Março' , 'Abril' ,' Maio', 'Junho' , 'Julho'\n",
        "         , 'Agosto' , 'Setembro' , 'Outubro' , 'Novembro' , 'Dezembro')\n",
        "\n",
        "print('-'*40)\n",
        "print(f\"Os seis primeiros meses:\")\n",
        "print('-'*40)\n",
        "for pos,mes in enumerate(tupla_meses[0:6]):\n",
        "    print(f\"{pos + 1}º Mês:\\t{mes}\")\n",
        "    \n",
        "    \n",
        "print('-'*40)\n",
        "print(f\"Os quatro últimos meses:\")\n",
        "print('-'*40)\n",
        "for pos,mes in enumerate(tupla_meses[8::]):\n",
        "    print(f\"{pos + 9}º Mês: {mes}\") \n",
        "print('-'*40)\n",
        "\n",
        "num = int(input(\"Digite um número entre 1 e 12: \"))\n",
        "if (num >=1) and (num <=12):\n",
        "    if num ==1:\n",
        "        print (f\"{num} - Corresponde à Janeiro\")\n",
        "    elif (num ==2):\n",
        "        print (f\"{num} - Corresponde à Fevereiro\")\n",
        "    elif num ==3:\n",
        "        print (f\"{num} - Corresponde à Março\")\n",
        "    elif num ==4:\n",
        "        print (f\"{num} - Corresponde à Abril\")\n",
        "    elif num ==5:\n",
        "        print (f\"{num} - Corresponde à Maio\")\n",
        "    elif num ==6:\n",
        "        print (f\"{num} - Corresponde à Junho\")\n",
        "    elif num ==7:\n",
        "        print (f\"{num} - Corresponde à Julho\")\n",
        "    elif num ==8:\n",
        "        print (f\"{num} - Corresponde à Agosto\")\n",
        "    elif num ==9:\n",
        "        print (f\"{num} - Corresponde à Setembro\")\n",
        "    elif num ==10:\n",
        "        print (f\"{num} - Corresponde à Outubro\")\n",
        "    elif num ==11:\n",
        "        print (f\"{num} - Corresponde à Novembro\")\n",
        "    if num ==12:\n",
        "        print (f\"{num} - Corresponde à Dezembro\")\n",
        "    else:\n",
        "        print(\"Número inválido!\") #Não conseguimos fazer a proteção de dados dentro de um laço"
      ]
    },
    {
      "cell_type": "markdown",
      "metadata": {
        "id": "pxp1WTCDiPJT"
      },
      "source": [
        "<B> Exercício 9 - 1.0 ponto - </B> Elaborar um algoritmo para ler 5 palavras armazenando-as em uma tupla. Deve-se:\n",
        "\n",
        "- Imprimir o tamanho de cada palavra.\n",
        "- Imprimir quantas palavras começam com a letra c (maiúscula ou minúscula) e quais são elas. Se nenhuma palavra começar com a letra c, deve-se mandar uma mensagem ao usuário;\n",
        "- Imprimir quantas letras 'a' existem em cada palavra."
      ]
    },
    {
      "cell_type": "code",
      "execution_count": null,
      "metadata": {
        "id": "WvOIXxyfiPJU"
      },
      "outputs": [],
      "source": [
        "#Esta incompleta\n",
        "lista = []\n",
        "\n",
        "for i in range (5):\n",
        "    palavra = str(input(\"Digite uma palavra: \"))\n",
        "    lista.append(palavra)\n",
        "    tupla = tuple(lista)\n",
        "print (tupla)\n",
        "\n",
        "#O tamanho de cada palavra\n",
        "print (f\"Tamanho da palavra 1: {len(lista[0])}\")\n",
        "print (f\"Tamanho da palavra 2: {len(lista[1])}\")\n",
        "print (f\"Tamanho da palavra 3: {len(lista[2])}\")\n",
        "print (f\"Tamanho da palavra 4: {len(lista[3])}\")\n",
        "print (f\"Tamanho da palavra 5: {len(lista[4])}\")\n",
        "\n",
        "print ('-' *30)\n",
        "#Palavras com a letra C\n",
        "for palavra in lista:\n",
        "    palavra.capitalize()\n",
        "    if palavra.startswith ('C'):\n",
        "        print (palavra)  \n",
        "\n",
        "        \n",
        "        \n",
        "for palavra in lista:\n",
        "    palavra.upper()\n",
        "    m = palavra.count('A')\n",
        "    print (f'Qntd de \"a\" na palavra {palavra} : {m}')"
      ]
    },
    {
      "cell_type": "code",
      "execution_count": null,
      "metadata": {
        "id": "i_FBI1PYiPJW"
      },
      "outputs": [],
      "source": [
        ""
      ]
    },
    {
      "cell_type": "markdown",
      "metadata": {
        "id": "a3owRrkiiPJW"
      },
      "source": [
        "<B> Exercício 10 - 1.0 ponto - </B> Você está analisando as vendas de produtos de sua empresa e quer identificar quais produtos tiveram no ano de 2021 mais vendas do que no ano de 2020, para reportar isso para o seu chefe. Elaborar um algoritmo para fazer um print de cada produto, qual foi a venda de 2020, a venda de 2021 e o % de crescimento de 2021 para 2020. <br/> \n",
        "OBS: Para calcular o percentual de crescimento de um produto de um ano para o outro, pode-se fazer: (vendas_produto2021/vendas_produto2020 - 1). <br/> \n",
        "A lógica da tupla é: (produto, vendas2020, vendas2021) e deve-se utilizar a estrutura de dados abaixo."
      ]
    },
    {
      "cell_type": "code",
      "execution_count": null,
      "metadata": {
        "id": "tgLc_YMkiPJX"
      },
      "outputs": [],
      "source": [
        "vendas_produtos = [('iphone', 558147, 951642), ('galaxy', 712350, 244295), ('ipad', 573823, 26964), ('tv', 405252, 787604), ('máquina de café', 718654, 867660), ('kindle', 531580, 78830), ('geladeira', 973139, 710331), ('adega', 892292, 646016), ('notebook dell', 422760, 694913), ('notebook hp', 154753, 539704), ('notebook asus', 887061, 324831), ('microsoft surface', 438508, 667179), ('webcam', 237467, 295633), ('caixa de som', 489705, 725316), ('microfone', 328311, 644622), ('câmera canon', 591120, 994303)]"
      ]
    },
    {
      "cell_type": "code",
      "execution_count": null,
      "metadata": {
        "id": "uW8Nd4tziPJY"
      },
      "outputs": [],
      "source": [
        "import pandas as pd\n",
        "\n",
        "vendas_produtos = [('iphone', 558147, 951642), ('galaxy', 712350, 244295), ('ipad', 573823, 26964),\n",
        "                   ('tv', 405252, 787604), ('máquina de café', 718654, 867660), ('kindle', 531580, 78830),\n",
        "                   ('geladeira', 973139, 710331), ('adega', 892292, 646016), \n",
        "                   ('notebook dell', 422760, 694913),\n",
        "                   ('notebook hp', 154753, 539704), ('notebook asus', 887061, 324831), \n",
        "                   ('microsoft surface', 438508, 667179),\n",
        "                   ('webcam', 237467, 295633), ('caixa de som', 489705, 725316), \n",
        "                   ('microfone', 328311, 644622),('câmera canon', 591120, 994303)]\n",
        "vendas_produtos\n",
        "\n",
        "\n",
        "df = pd.DataFrame(vendas_produtos, columns=['Produto','Vendas 2020','Vendas 2021'])\n",
        "df"
      ]
    },
    {
      "cell_type": "code",
      "execution_count": null,
      "metadata": {
        "id": "Bb2rNtTXiPJZ"
      },
      "outputs": [],
      "source": [
        "#Percentual de Crescimento\n",
        "for n in vendas_produtos:\n",
        "    vendas = (df[\"Vendas 2021\"] / df[\"Vendas 2020\"]) -1"
      ]
    },
    {
      "cell_type": "code",
      "execution_count": null,
      "metadata": {
        "id": "Y6rdh-q0iPJa"
      },
      "outputs": [],
      "source": [
        "#Adicionando na tabela \n",
        "import pandas as pd\n",
        "\n",
        "vendas_produtos = [('iphone', 558147, 951642), ('galaxy', 712350, 244295), ('ipad', 573823, 26964),\n",
        "                   ('tv', 405252, 787604), ('máquina de café', 718654, 867660), ('kindle', 531580, 78830),\n",
        "                   ('geladeira', 973139, 710331), ('adega', 892292, 646016), \n",
        "                   ('notebook dell', 422760, 694913),\n",
        "                   ('notebook hp', 154753, 539704), ('notebook asus', 887061, 324831), \n",
        "                   ('microsoft surface', 438508, 667179),\n",
        "                   ('webcam', 237467, 295633), ('caixa de som', 489705, 725316), \n",
        "                   ('microfone', 328311, 644622),('câmera canon', 591120, 994303)]\n",
        "vendas_produtos\n",
        "\n",
        "\n",
        "df = pd.DataFrame(vendas_produtos, columns=['Produto','Vendas 2020','Vendas 2021'])\n",
        "df['Percentual de Crescimento %'] = vendas\n",
        "display(df)"
      ]
    },
    {
      "cell_type": "code",
      "execution_count": null,
      "metadata": {
        "id": "PHCcvBExiPJb"
      },
      "outputs": [],
      "source": [
        ""
      ]
    }
  ],
  "metadata": {
    "kernelspec": {
      "display_name": "Python 3",
      "language": "python",
      "name": "python3"
    },
    "language_info": {
      "codemirror_mode": {
        "name": "ipython",
        "version": 3
      },
      "file_extension": ".py",
      "mimetype": "text/x-python",
      "name": "python",
      "nbconvert_exporter": "python",
      "pygments_lexer": "ipython3",
      "version": "3.8.8"
    },
    "colab": {
      "name": "Cópia de Estruturas de Dados -- Exercícios (1).ipynb",
      "provenance": [],
      "include_colab_link": true
    }
  },
  "nbformat": 4,
  "nbformat_minor": 0
}